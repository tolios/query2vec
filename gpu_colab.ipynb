{
  "cells": [
    {
      "cell_type": "markdown",
      "metadata": {
        "id": "vadmllSnQP_2"
      },
      "source": [
        "## The above code cell is used for installing torch-geometric and dependencies"
      ]
    },
    {
      "cell_type": "code",
      "execution_count": null,
      "metadata": {
        "colab": {
          "base_uri": "https://localhost:8080/"
        },
        "id": "DYFBjkS8N_yR",
        "outputId": "a6945d4e-5095-4a95-cf16-389ed7bfa342"
      },
      "outputs": [],
      "source": [
        "# Add this in a Google Colab cell to install the correct version of Pytorch Geometric.\n",
        "import torch\n",
        "\n",
        "def format_pytorch_version(version):\n",
        "  return version.split('+')[0]\n",
        "\n",
        "TORCH_version = torch.__version__\n",
        "TORCH = format_pytorch_version(TORCH_version)\n",
        "\n",
        "def format_cuda_version(version):\n",
        "  return 'cu' + version.replace('.', '')\n",
        "\n",
        "CUDA_version = torch.version.cuda\n",
        "CUDA = format_cuda_version(CUDA_version)\n",
        "\n",
        "!pip install torch-scatter     -f https://pytorch-geometric.com/whl/torch-{TORCH}+{CUDA}.html\n",
        "!pip install torch-sparse      -f https://pytorch-geometric.com/whl/torch-{TORCH}+{CUDA}.html\n",
        "!pip install torch-cluster     -f https://pytorch-geometric.com/whl/torch-{TORCH}+{CUDA}.html\n",
        "!pip install torch-spline-conv -f https://pytorch-geometric.com/whl/torch-{TORCH}+{CUDA}.html\n",
        "!pip install torch-geometric "
      ]
    },
    {
      "cell_type": "markdown",
      "metadata": {
        "id": "iHlGQ0BXRwkG"
      },
      "source": [
        "Install project and data..."
      ]
    },
    {
      "cell_type": "code",
      "execution_count": null,
      "metadata": {
        "colab": {
          "base_uri": "https://localhost:8080/"
        },
        "id": "axy6coCjQPAU",
        "outputId": "ef1470e2-89bc-4701-c755-2d5d253e5503"
      },
      "outputs": [],
      "source": [
        "from google.colab import drive\n",
        "drive.mount('/content/drive/')\n",
        "\n",
        "!cp -R ./drive/MyDrive/qa .\n",
        "!cp -R ./drive/MyDrive/query2vec .\n",
        "\n",
        "drive.flush_and_unmount()"
      ]
    },
    {
      "cell_type": "code",
      "execution_count": null,
      "metadata": {
        "colab": {
          "base_uri": "https://localhost:8080/"
        },
        "id": "U--DzYr9Qflq",
        "outputId": "a68a1eef-01a8-4c81-9ac0-d97be47443e3"
      },
      "outputs": [],
      "source": [
        "from query2vec.config import DEVICE\n",
        "\n",
        "DEVICE"
      ]
    },
    {
      "cell_type": "markdown",
      "metadata": {
        "id": "E19t9ITVXJF-"
      },
      "source": [
        "Training ..."
      ]
    },
    {
      "cell_type": "code",
      "execution_count": null,
      "metadata": {
        "colab": {
          "base_uri": "https://localhost:8080/"
        },
        "id": "-NXi-LHRTXP_",
        "outputId": "b98846ef-23da-4190-cb9a-b3316ce04120"
      },
      "outputs": [],
      "source": [
        "!python query2vec/main.py model --train_data='./qa/train_qa.txt' --val_data='./qa/val_qa.txt' \\\n",
        "                --epochs=10 "
      ]
    },
    {
      "cell_type": "code",
      "execution_count": null,
      "metadata": {
        "id": "mPKj4jkuhGDM"
      },
      "outputs": [],
      "source": [
        "!rm -rf model"
      ]
    },
    {
      "cell_type": "markdown",
      "metadata": {
        "id": "TzEVO4gNXNlw"
      },
      "source": [
        "Testing ..."
      ]
    },
    {
      "cell_type": "code",
      "execution_count": null,
      "metadata": {
        "colab": {
          "base_uri": "https://localhost:8080/"
        },
        "id": "QGBMlQKYTXsV",
        "outputId": "7736daf6-6278-43a8-e39d-fe0d592b6544"
      },
      "outputs": [],
      "source": [
        "!python ./query2vec/test.py model/model.pth.tar hits@ --N=100 \\\n",
        "                  --test_data=./qa/test_qa.txt"
      ]
    },
    {
      "cell_type": "code",
      "execution_count": null,
      "metadata": {
        "colab": {
          "base_uri": "https://localhost:8080/"
        },
        "id": "-7SKPLryZf0V",
        "outputId": "81144724-ad38-43a5-e64c-3d8dce96fab0"
      },
      "outputs": [],
      "source": [
        "!python ./query2vec/test.py model/model.pth.tar mean_rank \\\n",
        "                  --test_data=./qa/test_qa.txt"
      ]
    }
  ],
  "metadata": {
    "accelerator": "GPU",
    "colab": {
      "provenance": []
    },
    "gpuClass": "standard",
    "kernelspec": {
      "display_name": "Python 3",
      "name": "python3"
    },
    "language_info": {
      "name": "python"
    }
  },
  "nbformat": 4,
  "nbformat_minor": 0
}
